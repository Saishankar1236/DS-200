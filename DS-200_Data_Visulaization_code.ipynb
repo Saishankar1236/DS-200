{
 "cells": [
  {
   "cell_type": "code",
   "execution_count": 1,
   "id": "02972161",
   "metadata": {},
   "outputs": [],
   "source": [
    "import pandas as pd\n",
    "import numpy as np\n",
    "import matplotlib.pyplot as plt"
   ]
  },
  {
   "cell_type": "code",
   "execution_count": 2,
   "id": "4d871c86",
   "metadata": {},
   "outputs": [],
   "source": [
    "df=pd.read_csv(r\"C:\\Users\\HP\\Downloads\\sbm__uttar_pradesh__sambhal.csv\")"
   ]
  },
  {
   "cell_type": "code",
   "execution_count": 3,
   "id": "2d7d13c5",
   "metadata": {},
   "outputs": [
    {
     "data": {
      "text/html": [
       "<div>\n",
       "<style scoped>\n",
       "    .dataframe tbody tr th:only-of-type {\n",
       "        vertical-align: middle;\n",
       "    }\n",
       "\n",
       "    .dataframe tbody tr th {\n",
       "        vertical-align: top;\n",
       "    }\n",
       "\n",
       "    .dataframe thead th {\n",
       "        text-align: right;\n",
       "    }\n",
       "</style>\n",
       "<table border=\"1\" class=\"dataframe\">\n",
       "  <thead>\n",
       "    <tr style=\"text-align: right;\">\n",
       "      <th></th>\n",
       "      <th>StateName</th>\n",
       "      <th>DistrictName</th>\n",
       "      <th>BlockName</th>\n",
       "      <th>GramPanchayatName</th>\n",
       "      <th>IHHLTotalAsPerDetails</th>\n",
       "      <th>IHHLTotalAch</th>\n",
       "      <th>Date</th>\n",
       "    </tr>\n",
       "  </thead>\n",
       "  <tbody>\n",
       "    <tr>\n",
       "      <th>0</th>\n",
       "      <td>Uttar Pradesh</td>\n",
       "      <td>SAMBHAL</td>\n",
       "      <td>ASMAULI</td>\n",
       "      <td>AHROLA MAFI</td>\n",
       "      <td>526</td>\n",
       "      <td>526</td>\n",
       "      <td>5/19/2020 12:00:00 AM</td>\n",
       "    </tr>\n",
       "    <tr>\n",
       "      <th>1</th>\n",
       "      <td>Uttar Pradesh</td>\n",
       "      <td>SAMBHAL</td>\n",
       "      <td>ASMAULI</td>\n",
       "      <td>AITMADPUR BHATPURA</td>\n",
       "      <td>317</td>\n",
       "      <td>317</td>\n",
       "      <td>5/19/2020 12:00:00 AM</td>\n",
       "    </tr>\n",
       "    <tr>\n",
       "      <th>2</th>\n",
       "      <td>Uttar Pradesh</td>\n",
       "      <td>SAMBHAL</td>\n",
       "      <td>ASMAULI</td>\n",
       "      <td>AKBARPUR GAHRA</td>\n",
       "      <td>717</td>\n",
       "      <td>717</td>\n",
       "      <td>5/19/2020 12:00:00 AM</td>\n",
       "    </tr>\n",
       "    <tr>\n",
       "      <th>3</th>\n",
       "      <td>Uttar Pradesh</td>\n",
       "      <td>SAMBHAL</td>\n",
       "      <td>ASMAULI</td>\n",
       "      <td>AKHBANDPUR</td>\n",
       "      <td>442</td>\n",
       "      <td>442</td>\n",
       "      <td>5/19/2020 12:00:00 AM</td>\n",
       "    </tr>\n",
       "    <tr>\n",
       "      <th>4</th>\n",
       "      <td>Uttar Pradesh</td>\n",
       "      <td>SAMBHAL</td>\n",
       "      <td>ASMAULI</td>\n",
       "      <td>ASMOLI</td>\n",
       "      <td>1009</td>\n",
       "      <td>1009</td>\n",
       "      <td>5/19/2020 12:00:00 AM</td>\n",
       "    </tr>\n",
       "    <tr>\n",
       "      <th>...</th>\n",
       "      <td>...</td>\n",
       "      <td>...</td>\n",
       "      <td>...</td>\n",
       "      <td>...</td>\n",
       "      <td>...</td>\n",
       "      <td>...</td>\n",
       "      <td>...</td>\n",
       "    </tr>\n",
       "    <tr>\n",
       "      <th>551</th>\n",
       "      <td>Uttar Pradesh</td>\n",
       "      <td>SAMBHAL</td>\n",
       "      <td>SAMBHAL</td>\n",
       "      <td>SUJATPUR</td>\n",
       "      <td>211</td>\n",
       "      <td>211</td>\n",
       "      <td>5/19/2020 12:00:00 AM</td>\n",
       "    </tr>\n",
       "    <tr>\n",
       "      <th>552</th>\n",
       "      <td>Uttar Pradesh</td>\n",
       "      <td>SAMBHAL</td>\n",
       "      <td>SAMBHAL</td>\n",
       "      <td>TATARPUR MAJRA BATAUA</td>\n",
       "      <td>562</td>\n",
       "      <td>562</td>\n",
       "      <td>5/19/2020 12:00:00 AM</td>\n",
       "    </tr>\n",
       "    <tr>\n",
       "      <th>553</th>\n",
       "      <td>Uttar Pradesh</td>\n",
       "      <td>SAMBHAL</td>\n",
       "      <td>SAMBHAL</td>\n",
       "      <td>TATARPUR ROAD</td>\n",
       "      <td>428</td>\n",
       "      <td>428</td>\n",
       "      <td>5/19/2020 12:00:00 AM</td>\n",
       "    </tr>\n",
       "    <tr>\n",
       "      <th>554</th>\n",
       "      <td>Uttar Pradesh</td>\n",
       "      <td>SAMBHAL</td>\n",
       "      <td>SAMBHAL</td>\n",
       "      <td>TURTIPUR ELHA</td>\n",
       "      <td>1297</td>\n",
       "      <td>1297</td>\n",
       "      <td>5/19/2020 12:00:00 AM</td>\n",
       "    </tr>\n",
       "    <tr>\n",
       "      <th>555</th>\n",
       "      <td>Uttar Pradesh</td>\n",
       "      <td>SAMBHAL</td>\n",
       "      <td>SAMBHAL</td>\n",
       "      <td>WAJIDPUR SARAI</td>\n",
       "      <td>387</td>\n",
       "      <td>387</td>\n",
       "      <td>5/19/2020 12:00:00 AM</td>\n",
       "    </tr>\n",
       "  </tbody>\n",
       "</table>\n",
       "<p>556 rows × 7 columns</p>\n",
       "</div>"
      ],
      "text/plain": [
       "         StateName DistrictName BlockName      GramPanchayatName  \\\n",
       "0    Uttar Pradesh      SAMBHAL   ASMAULI            AHROLA MAFI   \n",
       "1    Uttar Pradesh      SAMBHAL   ASMAULI     AITMADPUR BHATPURA   \n",
       "2    Uttar Pradesh      SAMBHAL   ASMAULI         AKBARPUR GAHRA   \n",
       "3    Uttar Pradesh      SAMBHAL   ASMAULI             AKHBANDPUR   \n",
       "4    Uttar Pradesh      SAMBHAL   ASMAULI                 ASMOLI   \n",
       "..             ...          ...       ...                    ...   \n",
       "551  Uttar Pradesh      SAMBHAL   SAMBHAL               SUJATPUR   \n",
       "552  Uttar Pradesh      SAMBHAL   SAMBHAL  TATARPUR MAJRA BATAUA   \n",
       "553  Uttar Pradesh      SAMBHAL   SAMBHAL          TATARPUR ROAD   \n",
       "554  Uttar Pradesh      SAMBHAL   SAMBHAL          TURTIPUR ELHA   \n",
       "555  Uttar Pradesh      SAMBHAL   SAMBHAL         WAJIDPUR SARAI   \n",
       "\n",
       "     IHHLTotalAsPerDetails  IHHLTotalAch                   Date  \n",
       "0                      526           526  5/19/2020 12:00:00 AM  \n",
       "1                      317           317  5/19/2020 12:00:00 AM  \n",
       "2                      717           717  5/19/2020 12:00:00 AM  \n",
       "3                      442           442  5/19/2020 12:00:00 AM  \n",
       "4                     1009          1009  5/19/2020 12:00:00 AM  \n",
       "..                     ...           ...                    ...  \n",
       "551                    211           211  5/19/2020 12:00:00 AM  \n",
       "552                    562           562  5/19/2020 12:00:00 AM  \n",
       "553                    428           428  5/19/2020 12:00:00 AM  \n",
       "554                   1297          1297  5/19/2020 12:00:00 AM  \n",
       "555                    387           387  5/19/2020 12:00:00 AM  \n",
       "\n",
       "[556 rows x 7 columns]"
      ]
     },
     "execution_count": 3,
     "metadata": {},
     "output_type": "execute_result"
    }
   ],
   "source": [
    "df"
   ]
  },
  {
   "cell_type": "code",
   "execution_count": 5,
   "id": "bd5162e9",
   "metadata": {},
   "outputs": [],
   "source": [
    "blockname=list(set(df[\"BlockName\"]))\n"
   ]
  },
  {
   "cell_type": "code",
   "execution_count": 6,
   "id": "8dedef9c",
   "metadata": {},
   "outputs": [
    {
     "data": {
      "text/plain": [
       "['GUNNAUR',\n",
       " 'BANIYAKHERA',\n",
       " 'ASMAULI',\n",
       " 'BAHJOI',\n",
       " 'RAJPURA',\n",
       " 'SAMBHAL',\n",
       " 'JUNAWAI',\n",
       " 'PANWASA']"
      ]
     },
     "execution_count": 6,
     "metadata": {},
     "output_type": "execute_result"
    }
   ],
   "source": [
    "blockname"
   ]
  },
  {
   "cell_type": "code",
   "execution_count": 7,
   "id": "7d485584",
   "metadata": {},
   "outputs": [],
   "source": [
    "ihl=df[\"IHHLTotalAch\"]"
   ]
  },
  {
   "cell_type": "code",
   "execution_count": 8,
   "id": "58f76d1b",
   "metadata": {},
   "outputs": [
    {
     "data": {
      "text/plain": [
       "0       526\n",
       "1       317\n",
       "2       717\n",
       "3       442\n",
       "4      1009\n",
       "       ... \n",
       "551     211\n",
       "552     562\n",
       "553     428\n",
       "554    1297\n",
       "555     387\n",
       "Name: IHHLTotalAch, Length: 556, dtype: int64"
      ]
     },
     "execution_count": 8,
     "metadata": {},
     "output_type": "execute_result"
    }
   ],
   "source": [
    "ihl"
   ]
  },
  {
   "cell_type": "code",
   "execution_count": 9,
   "id": "601bc820",
   "metadata": {},
   "outputs": [],
   "source": [
    "bn=df[\"BlockName\"]"
   ]
  },
  {
   "cell_type": "code",
   "execution_count": 10,
   "id": "c3d14dd8",
   "metadata": {},
   "outputs": [
    {
     "data": {
      "text/plain": [
       "0      ASMAULI\n",
       "1      ASMAULI\n",
       "2      ASMAULI\n",
       "3      ASMAULI\n",
       "4      ASMAULI\n",
       "        ...   \n",
       "551    SAMBHAL\n",
       "552    SAMBHAL\n",
       "553    SAMBHAL\n",
       "554    SAMBHAL\n",
       "555    SAMBHAL\n",
       "Name: BlockName, Length: 556, dtype: object"
      ]
     },
     "execution_count": 10,
     "metadata": {},
     "output_type": "execute_result"
    }
   ],
   "source": [
    "bn"
   ]
  },
  {
   "cell_type": "code",
   "execution_count": 11,
   "id": "268c413f",
   "metadata": {},
   "outputs": [],
   "source": [
    "s=df.groupby([\"BlockName\"]).mean()"
   ]
  },
  {
   "cell_type": "code",
   "execution_count": 12,
   "id": "b970d677",
   "metadata": {},
   "outputs": [],
   "source": [
    "s1=df.get([\"BlockName\",\"IHHLTotalAch\"])"
   ]
  },
  {
   "cell_type": "code",
   "execution_count": 13,
   "id": "0569d954",
   "metadata": {},
   "outputs": [],
   "source": [
    "s2=dict(tuple(s1.groupby([\"BlockName\"])))"
   ]
  },
  {
   "cell_type": "code",
   "execution_count": 21,
   "id": "688b40a0",
   "metadata": {},
   "outputs": [
    {
     "data": {
      "image/png": "[encoded data removed]",
      "text/plain": [
       "<Figure size 432x288 with 1 Axes>"
      ]
     },
     "metadata": {
      "needs_background": "light"
     },
     "output_type": "display_data"
    }
   ],
   "source": [
    "plt.bar(blockname,s[\"IHHLTotalAch\"])\n",
    "plt.yticks(np.arange(0,800,100))\n",
    "plt.xticks(rotation=90)\n",
    "for i in range(len(blockname)):\n",
    "    plt.text(i,float(\"{:.3f}\".format(s[\"IHHLTotalAch\"][i])), float(\"{:.3f}\".format(s[\"IHHLTotalAch\"][i])), ha = 'center')\n",
    "plt.grid(axis='y')\n",
    "plt.title(\"Bar graph showing IHHLTotalAch\\n mean per Area in Sambhal District\")\n",
    "plt.xlabel(\"Different regions of Sambhal District\")\n",
    "plt.ylabel(\"Mean of IHHLTotalAch\")\n",
    "plt.show()"
   ]
  },
  {
   "cell_type": "code",
   "execution_count": 23,
   "id": "057afd4a",
   "metadata": {},
   "outputs": [
    {
     "data": {
      "image/png": "[encoded data removed]",
      "text/plain": [
       "<Figure size 432x288 with 1 Axes>"
      ]
     },
     "metadata": {
      "needs_background": "light"
     },
     "output_type": "display_data"
    }
   ],
   "source": [
    "p=[]\n",
    "for i in blockname:\n",
    "    p.append(list(s2[i][\"IHHLTotalAch\"]))\n",
    "plt.boxplot(p,labels=blockname)\n",
    "plt.xticks(rotation=90)\n",
    "plt.title(\"Box Plot showing IHHLTotalAch in GramPanchayats \\n in different regions of Sambhal District\")\n",
    "plt.xlabel(\"Different regions of Sambhal District\")\n",
    "plt.ylabel(\"Value of IHHTLTotalAch\")\n",
    "plt.show()"
   ]
  },
  {
   "cell_type": "code",
   "execution_count": 25,
   "id": "578282ae",
   "metadata": {},
   "outputs": [
    {
     "data": {
      "image/png": "[encoded data removed]",
      "text/plain": [
       "<Figure size 432x288 with 1 Axes>"
      ]
     },
     "metadata": {
      "needs_background": "light"
     },
     "output_type": "display_data"
    }
   ],
   "source": [
    "plt.scatter(df[\"IHHLTotalAch\"],df[\"IHHLTotalAsPerDetails\"])\n",
    "plt.title(\"Scatter plot of IHHLTotalAch vs IHHLTotalAsPerDetails\")\n",
    "plt.xlabel(\"IHHLTotalAch\")\n",
    "plt.ylabel(\"IHHLTotalAsPerDetails\")\n",
    "plt.grid()"
   ]
  },
  {
   "cell_type": "code",
   "execution_count": null,
   "id": "520ff130",
   "metadata": {},
   "outputs": [],
   "source": [
    "scatter plot, box plot and bar plot"
   ]
  }
 ],
 "metadata": {
  "kernelspec": {
   "display_name": "Python 3 (ipykernel)",
   "language": "python",
   "name": "python3"
  },
  "language_info": {
   "codemirror_mode": {
    "name": "ipython",
    "version": 3
   },
   "file_extension": ".py",
   "mimetype": "text/x-python",
   "name": "python",
   "nbconvert_exporter": "python",
   "pygments_lexer": "ipython3",
   "version": "3.9.12"
  }
 },
 "nbformat": 4,
 "nbformat_minor": 5
}
